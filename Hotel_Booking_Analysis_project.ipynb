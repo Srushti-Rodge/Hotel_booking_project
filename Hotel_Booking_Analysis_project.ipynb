{
  "nbformat": 4,
  "nbformat_minor": 0,
  "metadata": {
    "colab": {
      "private_outputs": true,
      "provenance": [],
      "collapsed_sections": [
        "mDgbUHAGgjLW",
        "Y3lxredqlCYt",
        "3RnN4peoiCZX",
        "x71ZqKXriCWQ",
        "7hBIi_osiCS2",
        "JlHwYmJAmNHm",
        "35m5QtbWiB9F",
        "PoPl-ycgm1ru",
        "H0kj-8xxnORC",
        "nA9Y7ga8ng1Z",
        "dauF4eBmngu3",
        "bKJF3rekwFvQ",
        "GF8Ens_Soomf",
        "0wOQAZs5pc--",
        "KSlN3yHqYklG",
        "EM7whBJCYoAo",
        "4Of9eVA-YrdM",
        "bamQiAODYuh1",
        "OH-pJp9IphqM",
        "PIIx-8_IphqN",
        "BZR9WyysphqO",
        "YJ55k-q6phqO",
        "U2RJ9gkRphqQ",
        "JcMwzZxoAimU",
        "gCX9965dhzqZ",
        "gIfDvo9L0UH2"
      ],
      "include_colab_link": true
    },
    "kernelspec": {
      "name": "python3",
      "display_name": "Python 3"
    },
    "language_info": {
      "name": "python"
    }
  },
  "cells": [
    {
      "cell_type": "markdown",
      "metadata": {
        "id": "view-in-github",
        "colab_type": "text"
      },
      "source": [
        "<a href=\"https://colab.research.google.com/github/Srushtirodge/Hotel_booking_project/blob/main/Hotel_Booking_Analysis_project.ipynb\" target=\"_parent\"><img src=\"https://colab.research.google.com/assets/colab-badge.svg\" alt=\"Open In Colab\"/></a>"
      ]
    },
    {
      "cell_type": "markdown",
      "source": [
        "# **Project Name**    - Hotel Booking Analysis\n",
        "\n"
      ],
      "metadata": {
        "id": "vncDsAP0Gaoa"
      }
    },
    {
      "cell_type": "markdown",
      "source": [
        "##### **Project Type**    - Exploratory Data Analysis\n",
        "##### **Contribution**    - Team\n",
        "##### **Team Member 1 -** Srushti S. Rodge\n",
        "##### **Team Member 2 -** Rutuja N. Rodge\n"
      ],
      "metadata": {
        "id": "beRrZCGUAJYm"
      }
    },
    {
      "cell_type": "markdown",
      "source": [
        "# **Project Summary -**"
      ],
      "metadata": {
        "id": "FJNUwmbgGyua"
      }
    },
    {
      "cell_type": "markdown",
      "source": [
        "*  Hotel booking sector is the customer oriented sector. Hence in Market it is a great profit making business.\n",
        "\n",
        "*  This data set contains booking information for a City Hotel and a Resort Hotel, and includes information such as when the booking was made, length of stay, the number of adults, children, and/or babies, and the number of available parking spaces, among other things.\n",
        "\n",
        "*  There are two types of Hotel i.e City Hotel and Resort Hotel.\n",
        "\n",
        "*  Most of the Guest books City Hotel and guest who want to enjoy holiday or events books Resort hotel.\n",
        "\n",
        "*  Here in the Data first we import the neccesary library like numpy, pandas, matplot, seaborn, etc.\n",
        "\n",
        "*  After that we mount the CSV file and observe the data :\n",
        "   1.  Setting data into table format.\n",
        "   2.  Observing Total booking in the hotels.\n",
        "   3.  Top Level Hotel and Bottom Level hotels.\n",
        "   4.  Types of customer, hospitality of hotel, etc.\n",
        "   5.  Specific customer from foreign country who visit hotel when they travel in that perticular area.\n",
        "       \n",
        "*  Data Cleaning was next step included information of data, knowing variables, nullifing the null values, setting outlier to avoid errors, etc.\n",
        "\n",
        "*  Maximum guest number came to hotel, availabity of parking area for private car, etc. to analyse the data more efficiently.\n",
        "\n",
        "*  With help of chart we can analyse the data and give some suggestion to client for improvement in their business.\n",
        "\n",
        "*  We present some business objective solutions and conclusion basis on correspopnding data.  "
      ],
      "metadata": {
        "id": "F6v_1wHtG2nS"
      }
    },
    {
      "cell_type": "markdown",
      "source": [
        "# **GitHub Link -**"
      ],
      "metadata": {
        "id": "w6K7xa23Elo4"
      }
    },
    {
      "cell_type": "markdown",
      "source": [
        "\n",
        "Provide your GitHub Link here.\n",
        "\n",
        "https://github.com/Srushtirodge/Hotel_booking_project/blob/main/Hotel_Booking_Analysis_project.ipynb\n",
        "\n"
      ],
      "metadata": {
        "id": "h1o69JH3Eqqn"
      }
    },
    {
      "cell_type": "markdown",
      "source": [
        "# **Problem Statement**\n"
      ],
      "metadata": {
        "id": "yQaldy8SH6Dl"
      }
    },
    {
      "cell_type": "markdown",
      "source": [
        "\n",
        "With help of hotel booking data set, we need to create the meaningfull insights that help to grow the hotel industry business.\n",
        "\n"
      ],
      "metadata": {
        "id": "DpeJGUA3kjGy"
      }
    },
    {
      "cell_type": "markdown",
      "source": [
        "#### **Define Your Business Objective?**"
      ],
      "metadata": {
        "id": "PH-0ReGfmX4f"
      }
    },
    {
      "cell_type": "markdown",
      "source": [
        "\n",
        "\n",
        "Have you ever wondered when the best time of year to book a hotel room is? Or the optimal length of stay in order to get the best daily rate? What if you wanted to predict whether or not a hotel was likely to receive a disproportionately high number of special requests? This hotel booking dataset can help you explore those questions! This data set contains booking information for a city hotel and a resort hotel, and includes information such as when the booking was made, length of stay, the number of adults, children, and/or babies, and the number of available parking spaces, among other things. All personally identifying information has been removed from the data. Explore and analyze the data to discover important factors that govern the bookings.\n",
        "\n"
      ],
      "metadata": {
        "id": "PhDvGCAqmjP1"
      }
    },
    {
      "cell_type": "markdown",
      "source": [
        "# ***Let's Begin !***"
      ],
      "metadata": {
        "id": "O_i_v8NEhb9l"
      }
    },
    {
      "cell_type": "markdown",
      "source": [
        "## ***1. Know Your Data***"
      ],
      "metadata": {
        "id": "HhfV-JJviCcP"
      }
    },
    {
      "cell_type": "markdown",
      "source": [
        "### Import Libraries"
      ],
      "metadata": {
        "id": "Y3lxredqlCYt"
      }
    },
    {
      "cell_type": "code",
      "source": [
        "# Import Libraries\n",
        "from scipy import stats\n",
        "import numpy as np\n",
        "import pandas as pd\n",
        "import matplotlib.pyplot as plt\n",
        "import matplotlib.gridspec as gridspec\n",
        "%matplotlib inline\n",
        "\n",
        "import math\n",
        "\n",
        "import seaborn as sns\n",
        "\n",
        "import warnings\n",
        "warnings.filterwarnings('ignore')"
      ],
      "metadata": {
        "id": "M8Vqi-pPk-HR"
      },
      "execution_count": null,
      "outputs": []
    },
    {
      "cell_type": "markdown",
      "source": [
        "### Dataset Loading"
      ],
      "metadata": {
        "id": "3RnN4peoiCZX"
      }
    },
    {
      "cell_type": "code",
      "source": [
        "# Load Dataset\n",
        "from google.colab import drive\n",
        "drive.mount('/content/drive')\n",
        "data=pd.read_csv('/content/drive/MyDrive/project module 2/Hotel Bookings.csv')\n"
      ],
      "metadata": {
        "id": "4CkvbW_SlZ_R"
      },
      "execution_count": null,
      "outputs": []
    },
    {
      "cell_type": "markdown",
      "source": [
        "### Dataset First View"
      ],
      "metadata": {
        "id": "x71ZqKXriCWQ"
      }
    },
    {
      "cell_type": "code",
      "source": [
        "# Dataset First Look\n",
        "df=data.copy()\n",
        "df"
      ],
      "metadata": {
        "id": "LWNFOSvLl09H"
      },
      "execution_count": null,
      "outputs": []
    },
    {
      "cell_type": "markdown",
      "source": [
        "### Dataset Rows & Columns count"
      ],
      "metadata": {
        "id": "7hBIi_osiCS2"
      }
    },
    {
      "cell_type": "code",
      "source": [
        "# Dataset Rows & Columns count\n",
        "df.shape"
      ],
      "metadata": {
        "id": "rq6Uo6BMVw_k"
      },
      "execution_count": null,
      "outputs": []
    },
    {
      "cell_type": "code",
      "source": [
        "print(\"Total Rows in the Dataset :\",df.shape[0] )\n",
        "print(\"Total Columns in the Dataset :\",df.shape[1])"
      ],
      "metadata": {
        "id": "Kllu7SJgmLij"
      },
      "execution_count": null,
      "outputs": []
    },
    {
      "cell_type": "markdown",
      "source": [
        "### Dataset Information"
      ],
      "metadata": {
        "id": "JlHwYmJAmNHm"
      }
    },
    {
      "cell_type": "code",
      "source": [
        "# Dataset Info\n",
        "df.info()"
      ],
      "metadata": {
        "id": "3q9PE7PWVQvp"
      },
      "execution_count": null,
      "outputs": []
    },
    {
      "cell_type": "code",
      "source": [
        "# First 5 Rows in the Dataset\n",
        "df.head()"
      ],
      "metadata": {
        "id": "e9hRXRi6meOf"
      },
      "execution_count": null,
      "outputs": []
    },
    {
      "cell_type": "code",
      "source": [
        "# Last Rows in the Dataset\n",
        "df.tail()"
      ],
      "metadata": {
        "id": "Odnw14UaUrUV"
      },
      "execution_count": null,
      "outputs": []
    },
    {
      "cell_type": "code",
      "source": [
        "# List of Column Index\n",
        "df.columns.tolist()"
      ],
      "metadata": {
        "id": "otuUdMAcUwHN"
      },
      "execution_count": null,
      "outputs": []
    },
    {
      "cell_type": "markdown",
      "source": [
        "#### Duplicate Values"
      ],
      "metadata": {
        "id": "35m5QtbWiB9F"
      }
    },
    {
      "cell_type": "code",
      "source": [
        "# Dataset Duplicate Value Count\n",
        "df.duplicated().value_counts()"
      ],
      "metadata": {
        "id": "1sLdpKYkmox0"
      },
      "execution_count": null,
      "outputs": []
    },
    {
      "cell_type": "code",
      "source": [
        "df.drop_duplicates(inplace=True)"
      ],
      "metadata": {
        "id": "uie7WzpDpqD_"
      },
      "execution_count": null,
      "outputs": []
    },
    {
      "cell_type": "code",
      "source": [
        "# After treating duplicates the Dataset\n",
        "print(df.shape)\n",
        "print(\"Total Rows after removing duplicates   :\",df.shape[0])\n",
        "print(\"Total Columns after removing duplicates:\",df.shape[1])"
      ],
      "metadata": {
        "id": "S1m4ymDtp-cu"
      },
      "execution_count": null,
      "outputs": []
    },
    {
      "cell_type": "code",
      "source": [
        "df.info()"
      ],
      "metadata": {
        "id": "yHLWpTxJrT5e"
      },
      "execution_count": null,
      "outputs": []
    },
    {
      "cell_type": "markdown",
      "source": [
        "#### Missing Values/Null Values"
      ],
      "metadata": {
        "id": "PoPl-ycgm1ru"
      }
    },
    {
      "cell_type": "code",
      "source": [
        "# Missing Values/Null Values Count\n",
        "df.isnull() # Table is in boolean format"
      ],
      "metadata": {
        "id": "GgHWkxvamxVg"
      },
      "execution_count": null,
      "outputs": []
    },
    {
      "cell_type": "code",
      "source": [
        "# Exact missing values in the Dataset\n",
        "df.isnull().sum()"
      ],
      "metadata": {
        "id": "D51U9nsRrxEd"
      },
      "execution_count": null,
      "outputs": []
    },
    {
      "cell_type": "code",
      "source": [
        "# Visualizing the missing values\n",
        "df['children'].fillna(0,inplace=True)\n",
        "df['agent'].fillna(0,inplace=True)\n",
        "df['country'].fillna('others',inplace=True)"
      ],
      "metadata": {
        "id": "3q5wnI3om9sJ"
      },
      "execution_count": null,
      "outputs": []
    },
    {
      "cell_type": "code",
      "source": [
        "df.drop(['company'],axis=1,inplace=True)"
      ],
      "metadata": {
        "id": "v9sTkJJBTc7p"
      },
      "execution_count": null,
      "outputs": []
    },
    {
      "cell_type": "code",
      "source": [
        "df['children']=df['children'].astype(int)\n",
        "df['agent']=df['agent'].astype(int)"
      ],
      "metadata": {
        "id": "zmd758mAtVji"
      },
      "execution_count": null,
      "outputs": []
    },
    {
      "cell_type": "code",
      "source": [
        "df['total_people'] = df['adults']+df['babies']+df['children']\n",
        "\n",
        "df['total_stay']= df['stays_in_week_nights']+df['stays_in_weekend_nights']"
      ],
      "metadata": {
        "id": "Cjvu5hXxtVVd"
      },
      "execution_count": null,
      "outputs": []
    },
    {
      "cell_type": "code",
      "source": [
        "df.isnull().sum()"
      ],
      "metadata": {
        "id": "lEOEBe0Tte5j"
      },
      "execution_count": null,
      "outputs": []
    },
    {
      "cell_type": "code",
      "source": [
        "df.shape # Here new column get added"
      ],
      "metadata": {
        "id": "WwbOH2qMtez5"
      },
      "execution_count": null,
      "outputs": []
    },
    {
      "cell_type": "markdown",
      "source": [
        "### What did you know about your dataset?"
      ],
      "metadata": {
        "id": "H0kj-8xxnORC"
      }
    },
    {
      "cell_type": "markdown",
      "source": [
        "Answer Here:-\n",
        "This data set contains the booking information of the City Hotel and Resort Hotel and also the information about the prebooking of customers, assigned room types, people types, car parking species availability,etc...This data also information of the length of stay, the agent, transition types as well as Hotel provides the facilities like meal types, booking change, refund after cancellation of reservation. The most important thing is hotel marketing using various market segments.   "
      ],
      "metadata": {
        "id": "gfoNAAC-nUe_"
      }
    },
    {
      "cell_type": "markdown",
      "source": [
        "## ***2. Understanding Your Variables***"
      ],
      "metadata": {
        "id": "nA9Y7ga8ng1Z"
      }
    },
    {
      "cell_type": "code",
      "source": [
        "# Dataset Columns\n",
        "df.columns.tolist()"
      ],
      "metadata": {
        "id": "j7xfkqrt5Ag5"
      },
      "execution_count": null,
      "outputs": []
    },
    {
      "cell_type": "code",
      "source": [
        "# Dataset Describe\n",
        "# It is a Statistical Dataset\n",
        "df.describe().T"
      ],
      "metadata": {
        "id": "DnOaZdaE5Q5t"
      },
      "execution_count": null,
      "outputs": []
    },
    {
      "cell_type": "code",
      "source": [
        "# Dataset object\n",
        "df.describe(include=object).T"
      ],
      "metadata": {
        "id": "HAWVAQ_13oGx"
      },
      "execution_count": null,
      "outputs": []
    },
    {
      "cell_type": "markdown",
      "source": [
        "### Variables Description"
      ],
      "metadata": {
        "id": "mZbsywyY4k2e"
      }
    },
    {
      "cell_type": "markdown",
      "source": [
        "Hotel : 1)Resort Hotel 2)City Hotel).\n",
        "\n",
        "is_canceled :if the booking was canceled (1) or not canceled (0)\n",
        "\n",
        "lead_time:Number of days that elapsed between the entering date of the booking into the PMS and the arrival date.\n",
        "\n",
        "arrival_date_year : arriving Year date\n",
        "\n",
        "arrival_date_month: arriving Month date\n",
        "\n",
        "arrival_date_week_number : Week number in year for arrival date\n",
        "\n",
        "arrival_date_day_of_month : Day of arrival date\n",
        "\n",
        "stays_in_weekend_nights : Number of weekend nights (Saturday or Sunday)\n",
        "\n",
        "stays_in_week_nights : Number of stay in week nights i.e Monday to Friday\n",
        "\n",
        "adults : Number of adults\n",
        "\n",
        "children : Number of children\n",
        "\n",
        "babies: Number of babies\n",
        "\n",
        "meal: Type of meal preferred.\n",
        "\n",
        "Undefined/SC – no meal package\n",
        "\n",
        "BB – Bed & Breakfast\n",
        "\n",
        "HB – Half board (breakfast and one other meal)\n",
        "\n",
        "FB – Full board (breakfast, lunch and dinner)\n",
        "\n",
        "country : Country of origin\n",
        "\n",
        "market_segment : Market segment designation.\n",
        "\n",
        "TA:- Travel Agents and TO:-Tour Operators\n",
        "\n",
        "distribution_channel: Booking distribution channel. The term “TA” means “Travel Agents” and “TO” means “Tour Operators”\n",
        "\n",
        "is_repeated_guest : The booking name was from a repeated guest (1) or not (0)\n",
        "\n",
        "previous_cancellations : Number of previous bookings that were cancelled by the customer compare to the current booking\n",
        "\n",
        "previous_bookings_not_canceled : Number of previous bookings not cancelled by the customer compare to the current booking\n",
        "\n",
        "reserved_room_type : Code of room type reserved.\n",
        "\n",
        "assigned_room_type : Code for the type of room assigned to the booking.\n",
        "\n",
        "booking_changes : Number of changes/amendments made to the booking from the moment the booking was entered on the PMS until the moment of check-in or cancellation\n",
        "\n",
        "deposit_type: customer made a deposit to guarantee the booking. This variable can assume three categories:\n",
        "\n",
        "No Deposit – no deposit was made\n",
        "\n",
        "Non Refund - a deposit was made in the value of the total stay\n",
        "\n",
        "cost Refundable – a deposit was made with a value under the total cost of stay.\n",
        "\n",
        "agent : ID of the travel agency that made the booking\n",
        "\n",
        "company : ID of the company/entity that made the booking or responsible for paying the booking. ID is presented instead of designation for anonymity reasons\n",
        "\n",
        "days_in_waiting_list : Number of days the booking was in the waiting list before it was confirmed to the customer\n",
        "\n",
        "customer_type : Type of booking, assuming one of four categories:\n",
        "\n",
        "Contract - when the booking has an allotment or other type of contract associated to it\n",
        "\n",
        "Group– when the booking is associated to a group\n",
        "\n",
        "Transient– when the booking is not part of a group or contract, and is not associated to other transient booking\n",
        "\n",
        "Transient-party – when the booking is transient, but is associated to at least other transient booking\n",
        "\n",
        "adr: It is measured as the total revenues generated by all the occupied rooms in a hotel or lodge divided by the total number of occupied rooms over a given time period. It is a simple average that shows the revenues generated per occupied room.\n",
        "\n",
        "The average daily rate (ADR) is a useful tool to maximize revenues in the hospitality sector. The ADR is measured as the total revenues generated by all the occupied rooms in the hotel or lodge divided by the total number of occupied rooms over a given time period. The average daily rate includes only the occupied rooms and not the total available stock. List item\n",
        "\n",
        "required_car_parking_spaces : Number of car parking spaces required by the customer\n",
        "\n",
        "*total_of_special_requests *: Number of special requests made by the customer\n",
        "\n",
        "reservation_status : Reservation last status, assuming one of three categories:\n",
        "\n",
        "Check-Out– customer has checked in but already departed\n",
        "\n",
        "No-Show – customer did not check-in and did inform the hotel of the reason\n",
        "\n",
        "reservation_status_date : Date at which the last status was set."
      ],
      "metadata": {
        "id": "SsouFsEy5VU7"
      }
    },
    {
      "cell_type": "markdown",
      "source": [
        "### Check Unique Values for each variable."
      ],
      "metadata": {
        "id": "u3PMJOP6ngxN"
      }
    },
    {
      "cell_type": "code",
      "source": [
        "# Check Unique Values for each variable.\n",
        "for num,col in enumerate(df.columns,1):\n",
        "    print('\\n')\n",
        "    print(num,')\\n','{} : {}'.format(col,df[col].unique().tolist()))"
      ],
      "metadata": {
        "id": "zms12Yq5n-jE"
      },
      "execution_count": null,
      "outputs": []
    },
    {
      "cell_type": "code",
      "source": [
        "# Treating outlier\n",
        "x=df.boxplot()\n",
        "x.set_xticklabels(x.get_xticklabels(), rotation=90)\n",
        "plt.show()\n"
      ],
      "metadata": {
        "id": "9vUtDYeL7Uir"
      },
      "execution_count": null,
      "outputs": []
    },
    {
      "cell_type": "code",
      "source": [
        "df=df[df['adr']<5000]\n",
        "df\n",
        "y=df.boxplot()\n",
        "y.set_xticklabels(y.get_xticklabels(), rotation=90)\n",
        "plt.show()\n"
      ],
      "metadata": {
        "id": "-9m9sMfO-zK6"
      },
      "execution_count": null,
      "outputs": []
    },
    {
      "cell_type": "code",
      "source": [
        "z=df.boxplot()\n",
        "z.set_xticklabels(z.get_xticklabels(), rotation=90)"
      ],
      "metadata": {
        "id": "ROXXP8RmH3aW"
      },
      "execution_count": null,
      "outputs": []
    },
    {
      "cell_type": "code",
      "source": [],
      "metadata": {
        "id": "HBnMffNeIWMU"
      },
      "execution_count": null,
      "outputs": []
    },
    {
      "cell_type": "markdown",
      "source": [
        "## 3. ***Data Wrangling***"
      ],
      "metadata": {
        "id": "dauF4eBmngu3"
      }
    },
    {
      "cell_type": "markdown",
      "source": [
        "### Data Wrangling Code"
      ],
      "metadata": {
        "id": "bKJF3rekwFvQ"
      }
    },
    {
      "cell_type": "code",
      "source": [
        "# Here are some data that decides the revenue of Hotel.\n",
        "print(\"Maximum Pre-Booking                          :\",df['lead_time'].max())\n",
        "print(\"Total stay in the Hotel                      :\",df['total_stay'].max())\n",
        "print(\"Car Parking Spaces in the Hotel for the Guest:\",df['required_car_parking_spaces'].max())\n",
        "print(\"Non canceled booking                         :\",df['previous_bookings_not_canceled'].max())\n"
      ],
      "metadata": {
        "id": "wk-9a2fpoLcV"
      },
      "execution_count": null,
      "outputs": []
    },
    {
      "cell_type": "markdown",
      "source": [
        "## ***4. Data Vizualization, Storytelling & Experimenting with charts : Understand the relationships between variables***"
      ],
      "metadata": {
        "id": "GF8Ens_Soomf"
      }
    },
    {
      "cell_type": "markdown",
      "source": [
        "#### Q.1 - How much Revenue generate within the month?"
      ],
      "metadata": {
        "id": "0wOQAZs5pc--"
      }
    },
    {
      "cell_type": "code",
      "source": [
        "# Chart - 1 visualization code\n",
        "df['revenue']=df['adr']*(1-df['is_canceled'])*df['total_stay']\n",
        "bar_colors= ['red', 'red', 'yellow', 'yellow', 'yellow', 'yellow', 'green', 'green', 'yellow', 'yellow', 'red', 'red']\n",
        "\n",
        "monthly_revenue=df.groupby('arrival_date_month')['revenue'].sum().reindex(['January','February','March','April','May','June','July','August','September','October','November','December']) # reindex is use for index in order form.\n",
        "\n",
        "# Visualization\n",
        "plt.figure(figsize=(8,6))\n",
        "plt.gca().set_facecolor('lightgray')\n",
        "plt.bar(monthly_revenue.index,monthly_revenue.values,color=bar_colors, linewidth=1, edgecolor='black')\n",
        "plt.xlabel(\"Month\")\n",
        "plt.ylabel(\"Total Revenue\")\n",
        "plt.title(\"Monthly Revenue\")\n",
        "plt.xticks(rotation=90)\n",
        "\n",
        "plt.show()"
      ],
      "metadata": {
        "id": "7v_ESjsspbW7"
      },
      "execution_count": null,
      "outputs": []
    },
    {
      "cell_type": "markdown",
      "source": [
        "##### 1. Why did you pick the specific chart?"
      ],
      "metadata": {
        "id": "K5QZ13OEpz2H"
      }
    },
    {
      "cell_type": "markdown",
      "source": [
        "  \n",
        "In the bar chart, we can segregate the data according to categories, as it is basic and easy to understand the information from file. By using different colours, we can highlight the specific bar for observation and draw a conclusion on that basis."
      ],
      "metadata": {
        "id": "XESiWehPqBRc"
      }
    },
    {
      "cell_type": "markdown",
      "source": [
        "##### 2. What is/are the insight(s) found from the chart?"
      ],
      "metadata": {
        "id": "BSRyu1obpUXG"
      }
    },
    {
      "cell_type": "markdown",
      "source": [
        "\n",
        "\n",
        "In the graph, we can see that the revenue the hotel gets increases from January to September but then decreases at the end of the year. The major revenue created by hotels in the September month i.e middle of year and the lowest at the beginning and ending of year.\n"
      ],
      "metadata": {
        "id": "C_j1G7yiqdRP"
      }
    },
    {
      "cell_type": "markdown",
      "source": [
        "##### 3. Will the gained insights help creating a positive business impact?\n",
        "Are there any insights that lead to negative growth? Justify with specific reason."
      ],
      "metadata": {
        "id": "448CDAPjqfQr"
      }
    },
    {
      "cell_type": "markdown",
      "source": [
        "With the above insights we can conclude that the month in which revenue generate higher than other month due to weather change or maybe local events, etc."
      ],
      "metadata": {
        "id": "fJDBxjQGjcL7"
      }
    },
    {
      "cell_type": "markdown",
      "source": [
        "#### Q. 2 - how much Booking done within a year?"
      ],
      "metadata": {
        "id": "KSlN3yHqYklG"
      }
    },
    {
      "cell_type": "code",
      "source": [
        "year_revenue=df.groupby(['arrival_date_year'])['arrival_date_month'].value_counts()\n",
        "year_revenue"
      ],
      "metadata": {
        "id": "bvcqvQdoA87s"
      },
      "execution_count": null,
      "outputs": []
    },
    {
      "cell_type": "code",
      "source": [
        "year_1=df[df['arrival_date_year']==2015]\n",
        "year_2=df[df['arrival_date_year']==2016]\n",
        "year_3=df[df['arrival_date_year']==2017]\n",
        "year_1.shape, year_2.shape, year_3.shape"
      ],
      "metadata": {
        "id": "zEVK6CDkaidf"
      },
      "execution_count": null,
      "outputs": []
    },
    {
      "cell_type": "code",
      "source": [
        "#Visualation chart 2:\n",
        "plt.figure(figsize=(18,20))\n",
        "plt.subplot(3,1,1)\n",
        "\n",
        "sns.countplot( x=year_1['arrival_date_month'], linewidth=0.7, edgecolor='black')\n",
        "plt.title('Bookings by Arrival Year 2015', fontsize=20, fontweight= 'bold')\n",
        "plt.xlabel('Month Data')\n",
        "plt.ylabel('Booking frequency')\n",
        "\n",
        "\n",
        "plt.subplot(3,1,2)\n",
        "sns.countplot( x=year_2['arrival_date_month'], linewidth=0.7, edgecolor='black')\n",
        "plt.title('Bookings by Arrival Year 2016', fontsize=20, fontweight= 'bold')\n",
        "plt.xlabel('Month Data')\n",
        "plt.ylabel('Booking frequency')\n",
        "\n",
        "\n",
        "plt.subplot(3,1,3)\n",
        "sns.countplot( x=year_3['arrival_date_month'], linewidth=0.7, edgecolor='black')\n",
        "plt.title('Bookings by Arrival Year 2017', fontsize= 20, fontweight= 'bold')\n",
        "plt.xlabel('Month Data')\n",
        "plt.ylabel('Booking frequency')"
      ],
      "metadata": {
        "id": "PkEQOd33YhlY"
      },
      "execution_count": null,
      "outputs": []
    },
    {
      "cell_type": "markdown",
      "source": [
        "##### 1. What is/are the insight(s) found from the chart?"
      ],
      "metadata": {
        "id": "lQ7QKXXCp7Bj"
      }
    },
    {
      "cell_type": "markdown",
      "source": [
        "\n",
        "In the above data:\n",
        "1. 2015 year contains booking data of July to December. In that year most of booking done in the August, September and October.\n",
        "2. In 2016, August and October contains most booking.\n",
        "3. In 2017 booking data available from January to August, in that booking is most in month of May and July.  "
      ],
      "metadata": {
        "id": "eoWX7P6qqMTF"
      }
    },
    {
      "cell_type": "markdown",
      "source": [
        "##### 2. Will the gained insights help creating a positive business impact?\n",
        "Are there any insights that lead to negative growth? Justify with specific reason."
      ],
      "metadata": {
        "id": "KSVjZM3zqS1U"
      }
    },
    {
      "cell_type": "markdown",
      "source": [
        "From the graph we can conclude that hotel booking business grown from year to year..by observing the data, the growth may little slow but still it continuously growing."
      ],
      "metadata": {
        "id": "ikL2x7GnqWRw"
      }
    },
    {
      "cell_type": "markdown",
      "source": [
        "#### Q. 3 - What kind of deposition policy provode by hotels?"
      ],
      "metadata": {
        "id": "EM7whBJCYoAo"
      }
    },
    {
      "cell_type": "code",
      "source": [
        "# Chart - 3 visualization chart"
      ],
      "metadata": {
        "id": "I9RugvL2j5uZ"
      },
      "execution_count": null,
      "outputs": []
    },
    {
      "cell_type": "code",
      "source": [
        "deposit_counts = data['deposit_type'].value_counts()\n",
        "custom_colors = ['#66b3ff', '#99ff99', '#ff9999']\n",
        "explode = [0.1 if i == 0 else 0 for i in range(len(deposit_counts))]\n",
        "plt.pie(deposit_counts, autopct='%11.1f%%', startangle=180, colors=custom_colors, explode=explode)\n",
        "plt.legend(deposit_counts.index, title=\"Deposit Type\",bbox_to_anchor=(1, 1, 0.5,0))\n",
        "plt.title('Deposit Type Distribution')\n",
        "plt.show()"
      ],
      "metadata": {
        "id": "kzYA6GnWj5py"
      },
      "execution_count": null,
      "outputs": []
    },
    {
      "cell_type": "markdown",
      "source": [
        "##### 1. Why did you pick the specific chart?"
      ],
      "metadata": {
        "id": "fge-S5ZAYoAp"
      }
    },
    {
      "cell_type": "markdown",
      "source": [
        "\n",
        "Pie chart doesn't need to show the time. So it is more suitable to show the above data. It also helps to understand data by percentage."
      ],
      "metadata": {
        "id": "5dBItgRVYoAp"
      }
    },
    {
      "cell_type": "markdown",
      "source": [
        "##### 2. What is/are the insight(s) found from the chart?"
      ],
      "metadata": {
        "id": "85gYPyotYoAp"
      }
    },
    {
      "cell_type": "markdown",
      "source": [
        "\n",
        "The hotel that provide the facility of no deposition are 87.6% i.e after booking when guest check in they need to deposite money.\n",
        "12% hotel booking does not provide refund policy even if guest will arrive or not.\n",
        "0.1% hotel booking provide refund policy even if guest present or not."
      ],
      "metadata": {
        "id": "4jstXR6OYoAp"
      }
    },
    {
      "cell_type": "markdown",
      "source": [
        "##### 3. Will the gained insights help creating a positive business impact?\n",
        "Are there any insights that lead to negative growth? Justify with specific reason."
      ],
      "metadata": {
        "id": "RoGjAbkUYoAp"
      }
    },
    {
      "cell_type": "markdown",
      "source": [
        "Such kind of deposition creates hotel fix revenue which is good for the hotel. Refund policy may results in loss but still it creates hte good image of hotel.  "
      ],
      "metadata": {
        "id": "zfJ8IqMcYoAp"
      }
    },
    {
      "cell_type": "markdown",
      "source": [
        "#### Q. 4 - How much days before guest book the room for their stay?\n"
      ],
      "metadata": {
        "id": "4Of9eVA-YrdM"
      }
    },
    {
      "cell_type": "code",
      "source": [
        "# Chart - 4 visualization code\n",
        "plt.hist(df['lead_time'], bins=30, color='red', edgecolor='blue')\n",
        "plt.gca().set_facecolor('lightpink')\n",
        "plt.xlabel('Lead Time in days')\n",
        "plt.ylabel('Frequency')\n",
        "plt.title('Lead Time Distribution')\n",
        "plt.show()"
      ],
      "metadata": {
        "id": "dGtFK2Wzj4Oc"
      },
      "execution_count": null,
      "outputs": []
    },
    {
      "cell_type": "markdown",
      "source": [
        "##### 1. Why did you pick the specific chart?"
      ],
      "metadata": {
        "id": "iky9q4vBYrdO"
      }
    },
    {
      "cell_type": "markdown",
      "source": [
        "\n",
        "Histogram is type of bar graph that show the numerical data. It contains the rectangular shape continuous bar in which width range change according to data."
      ],
      "metadata": {
        "id": "aJRCwT6DYrdO"
      }
    },
    {
      "cell_type": "markdown",
      "source": [
        "##### 2. What is/are the insight(s) found from the chart?"
      ],
      "metadata": {
        "id": "F6T5p64dYrdO"
      }
    },
    {
      "cell_type": "markdown",
      "source": [
        "\n",
        "From the graph, it is shown that majority guest prefer Pre-booking of hotel room before 25_30 days. The guest who from foreign place book their room before 300-400 days."
      ],
      "metadata": {
        "id": "Xx8WAJvtYrdO"
      }
    },
    {
      "cell_type": "markdown",
      "source": [
        "##### 3. Will the gained insights help creating a positive business impact?\n",
        "Are there any insights that lead to negative growth? Justify with specific reason."
      ],
      "metadata": {
        "id": "y-Ehk30pYrdP"
      }
    },
    {
      "cell_type": "markdown",
      "source": [
        "\n",
        "Lead time of the hotel booking is on local scale... For the more expansion it need more offers with best services to attract the guest."
      ],
      "metadata": {
        "id": "jLNxxz7MYrdP"
      }
    },
    {
      "cell_type": "markdown",
      "source": [
        "#### Q.5 - Which type of customer book their room?"
      ],
      "metadata": {
        "id": "bamQiAODYuh1"
      }
    },
    {
      "cell_type": "code",
      "source": [
        "# Chart - 5 visualization code\n",
        "\n",
        "plt.figure(figsize=(8, 4))\n",
        "plt.gca().set_facecolor('lightblue')\n",
        "sns.countplot(x='customer_type', hue='is_canceled', data=df, linewidth=1, edgecolor='black')\n",
        "plt.title('Cancellation by Customer Type')\n",
        "plt.xlabel('Customer Type')\n",
        "plt.ylabel('Count')\n",
        "plt.legend(title='Cancellation', labels=['Not Canceled', 'Canceled'])\n",
        "plt.show()"
      ],
      "metadata": {
        "id": "jnlnNL30j0R-"
      },
      "execution_count": null,
      "outputs": []
    },
    {
      "cell_type": "markdown",
      "source": [
        "#####1. What is/are the insight(s) found from the chart?"
      ],
      "metadata": {
        "id": "GwzvFGzlYuh3"
      }
    },
    {
      "cell_type": "markdown",
      "source": [
        "\n",
        "From the above chart we can conclude that customer type show the impact on guest number count. Transient type of customer are the one who books the rooms most of time as well as cancel it. But Transient-Party type customers have less cancellation of booking."
      ],
      "metadata": {
        "id": "uyqkiB8YYuh3"
      }
    },
    {
      "cell_type": "markdown",
      "source": [
        "##### 2. Will the gained insights help creating a positive business impact?\n",
        "Are there any insights that lead to negative growth? Justify with specific reason."
      ],
      "metadata": {
        "id": "qYpmQ266Yuh3"
      }
    },
    {
      "cell_type": "markdown",
      "source": [
        "If we want to control or minimize the cancelation count then we should know the reason other personal reason so we can offer them better options to change their decision."
      ],
      "metadata": {
        "id": "_WtzZ_hCYuh4"
      }
    },
    {
      "cell_type": "markdown",
      "source": [
        "####Q. 6 -what is the relationship between Average daily rate (ADR) and Lead Time (Days)?"
      ],
      "metadata": {
        "id": "OH-pJp9IphqM"
      }
    },
    {
      "cell_type": "code",
      "source": [
        "# Chart - 6 visualization code\n",
        "plt.figure(figsize=(14, 4))\n",
        "plt.gca().set_facecolor('lightgray')\n",
        "sns.scatterplot(x='arrival_date_month', y='adr', data=df)\n",
        "plt.title('Scatter Plot of Lead Time vs. Average Daily Rate')\n",
        "plt.xlabel('Lead Time (days)')\n",
        "plt.ylabel('Average Daily Rate')\n",
        "plt.show()"
      ],
      "metadata": {
        "id": "4N-XvYLpjvJt"
      },
      "execution_count": null,
      "outputs": []
    },
    {
      "cell_type": "markdown",
      "source": [
        "##### 1. Why did you pick the specific chart?"
      ],
      "metadata": {
        "id": "bbFf2-_FphqN"
      }
    },
    {
      "cell_type": "markdown",
      "source": [
        "\n",
        "Scattered plot chart is the graph that allows to comparison of two unrelated variables and determine the relation between them."
      ],
      "metadata": {
        "id": "loh7H2nzphqN"
      }
    },
    {
      "cell_type": "markdown",
      "source": [
        "##### 2. What is/are the insight(s) found from the chart?"
      ],
      "metadata": {
        "id": "_ouA3fa0phqN"
      }
    },
    {
      "cell_type": "markdown",
      "source": [
        "\n",
        "From the chart can be conclude that August MOnth has continuous increasing adr but in the July, December and May in that month one day reach upto 500 adr."
      ],
      "metadata": {
        "id": "VECbqPI7phqN"
      }
    },
    {
      "cell_type": "markdown",
      "source": [
        "##### 3. Will the gained insights help creating a positive business impact?\n",
        "Are there any insights that lead to negative growth? Justify with specific reason."
      ],
      "metadata": {
        "id": "Seke61FWphqN"
      }
    },
    {
      "cell_type": "markdown",
      "source": [
        "\n",
        "From the lead time in the month we can analyse profit make by hotel by compairing with adr."
      ],
      "metadata": {
        "id": "DW4_bGpfphqN"
      }
    },
    {
      "cell_type": "markdown",
      "source": [
        "#### Q. 7 - What is the frequency of special booking request made by customer?"
      ],
      "metadata": {
        "id": "PIIx-8_IphqN"
      }
    },
    {
      "cell_type": "code",
      "source": [
        "cancel=df.groupby(['total_of_special_requests'])['is_canceled'].value_counts()\n",
        "cancel"
      ],
      "metadata": {
        "id": "7oLWpLVcMjO7"
      },
      "execution_count": null,
      "outputs": []
    },
    {
      "cell_type": "code",
      "source": [
        "# Chart - 7 visualization code\n",
        "plt.figure(figsize=(10, 4))\n",
        "sns.countplot( x='total_of_special_requests', hue='is_canceled', data=df, linewidth=0.7, edgecolor='black')\n",
        "plt.xlabel('Booking Cancellation Status')\n",
        "plt.ylabel('Total Special Requests')\n",
        "plt.title('Relationship between Special Requests and Cancellations')\n",
        "plt.legend(title='Hotel Booking', labels=['Not Canceled', 'Canceled'])\n",
        "plt.gca().set_facecolor('lightgray')\n",
        "plt.show()"
      ],
      "metadata": {
        "id": "G14oGduzjne3"
      },
      "execution_count": null,
      "outputs": []
    },
    {
      "cell_type": "markdown",
      "source": [
        "##### 1. What is/are the insight(s) found from the chart?"
      ],
      "metadata": {
        "id": "r2jJGEOYphqO"
      }
    },
    {
      "cell_type": "markdown",
      "source": [
        "From the above graph we can say that,\n",
        "1.  The guest who doesn't make any special request represent by '0': which have highest booking count but highest cancellation count too.\n",
        "2.  the guest who make special request represent by '1', '2' and '3': which have higher booking count but less cancellation count.\n"
      ],
      "metadata": {
        "id": "Po6ZPi4hphqO"
      }
    },
    {
      "cell_type": "markdown",
      "source": [
        "##### 2. Will the gained insights help creating a positive business impact?\n",
        "Are there any insights that lead to negative growth? Justify with specific reason."
      ],
      "metadata": {
        "id": "b0JNsNcRphqO"
      }
    },
    {
      "cell_type": "markdown",
      "source": [
        "Special guest request make very good impack on the booking status of hotel.\n"
      ],
      "metadata": {
        "id": "xvSq8iUTphqO"
      }
    },
    {
      "cell_type": "markdown",
      "source": [
        "#### Q. 8  - Difference between lead time of Guest who stay in week night and lead time of Guest who stay weekend night."
      ],
      "metadata": {
        "id": "BZR9WyysphqO"
      }
    },
    {
      "cell_type": "code",
      "source": [
        "# Chart - 8 visualization code\n",
        "sns.pairplot(df[['lead_time', 'stays_in_weekend_nights', 'stays_in_week_nights']])\n",
        "plt.show()"
      ],
      "metadata": {
        "id": "x35v329hjj4a"
      },
      "execution_count": null,
      "outputs": []
    },
    {
      "cell_type": "markdown",
      "source": [
        "##### 1. Why did you pick the specific chart?"
      ],
      "metadata": {
        "id": "jj7wYXLtphqO"
      }
    },
    {
      "cell_type": "markdown",
      "source": [
        "This chart allow us to plot pair wise relationship between variables within dataset"
      ],
      "metadata": {
        "id": "Ob8u6rCTphqO"
      }
    },
    {
      "cell_type": "markdown",
      "source": [
        "##### 2. What is/are the insight(s) found from the chart?"
      ],
      "metadata": {
        "id": "eZrbJ2SmphqO"
      }
    },
    {
      "cell_type": "markdown",
      "source": [
        "Here in the graph we can see the relation between lead time with the other data like guest who stay in week night and weekend night. From the graph we can see the lead time is maximum for the week night stay guest than weekend night guest."
      ],
      "metadata": {
        "id": "mZtgC_hjphqO"
      }
    },
    {
      "cell_type": "markdown",
      "source": [
        "##### 3. Will the gained insights help creating a positive business impact?\n",
        "Are there any insights that lead to negative growth? Justify with specific reason."
      ],
      "metadata": {
        "id": "rFu4xreNphqO"
      }
    },
    {
      "cell_type": "markdown",
      "source": [
        "To increase the guest number in the week night hotel can organise different themes like festival special or knowing the local people tradition and displaying that atmosphere in the hotel. It will eventually result in the attraction to guest. Hotel made profits from this ideas."
      ],
      "metadata": {
        "id": "ey_0qi68phqO"
      }
    },
    {
      "cell_type": "markdown",
      "source": [
        "#### 9 - How many Guest revisit or rebook the hotel room?"
      ],
      "metadata": {
        "id": "YJ55k-q6phqO"
      }
    },
    {
      "cell_type": "code",
      "source": [
        "repeated_guest_counts = df.groupby(['is_repeated_guest'])['is_canceled'].value_counts()\n",
        "repeated_guest_counts"
      ],
      "metadata": {
        "id": "-akkdFGhWXqg"
      },
      "execution_count": null,
      "outputs": []
    },
    {
      "cell_type": "code",
      "source": [
        "hotel_1=df[df['is_canceled']==0] # Here we filter the non-canceled guest.\n",
        "hotel_1.shape"
      ],
      "metadata": {
        "id": "nQW3qN8mTK41"
      },
      "execution_count": null,
      "outputs": []
    },
    {
      "cell_type": "code",
      "source": [
        "# Chart - 9 visualization code\n",
        "repeated_guest_counts = hotel_1['is_repeated_guest'].value_counts()\n",
        "custom_colors = ['#66b3ff', '#ff9999']  #plt.legend(title='Cancellation', labels=['Not Canceled', 'Canceled'])\n",
        "explode = [0.1 if i == 0 else 0 for i in range(len(repeated_guest_counts))]\n",
        "plt.pie(repeated_guest_counts, autopct='%1.1f%%', startangle=180, colors=custom_colors, explode=explode)\n",
        "plt.legend(repeated_guest_counts.index, title=\"Type of Guest\", bbox_to_anchor=(1, 1, 0.5, 0))\n",
        "plt.title('Proportion of Repeated Guests')\n",
        "plt.show()"
      ],
      "metadata": {
        "id": "RrYeKBFTjaq8"
      },
      "execution_count": null,
      "outputs": []
    },
    {
      "cell_type": "markdown",
      "source": [
        "##### 1. What is/are the insight(s) found from the chart?"
      ],
      "metadata": {
        "id": "OVtJsKN_phqQ"
      }
    },
    {
      "cell_type": "markdown",
      "source": [
        "In the pie chart we can see 95% guest book only once and remaining 5% rebook the hotelroom without cancellation."
      ],
      "metadata": {
        "id": "ngGi97qjphqQ"
      }
    },
    {
      "cell_type": "markdown",
      "source": [
        "##### 2. Will the gained insights help creating a positive business impact?\n",
        "Are there any insights that lead to negative growth? Justify with specific reason."
      ],
      "metadata": {
        "id": "lssrdh5qphqQ"
      }
    },
    {
      "cell_type": "markdown",
      "source": [
        "Guest don't do prebooking again because long distance or further area. To attract the guest we should work on the advertisement and by familier atmosphere where they can feel peace and home like feeling. Ultimately it will generate great rating and guest visit the hotel regularly."
      ],
      "metadata": {
        "id": "tBpY5ekJphqQ"
      }
    },
    {
      "cell_type": "markdown",
      "source": [
        "#### Q. 10 - What kind of meal serve by the hotel?"
      ],
      "metadata": {
        "id": "U2RJ9gkRphqQ"
      }
    },
    {
      "cell_type": "code",
      "source": [
        "# Chart - 10 visualization code\n",
        "meal_counts = df['meal'].value_counts()\n",
        "bar_colors=['orange','darkgreen','yellow','red','blue']\n",
        "plt.gca().set_facecolor('lightyellow')\n",
        "plt.barh(meal_counts.index, meal_counts.values, color=bar_colors, linewidth=0.7, edgecolor='black')\n",
        "plt.xlabel('Meal Type')\n",
        "plt.ylabel('Count')\n",
        "plt.title('Meal Preference')\n",
        "plt.show()\n"
      ],
      "metadata": {
        "id": "ATADgV1ujXNr"
      },
      "execution_count": null,
      "outputs": []
    },
    {
      "cell_type": "markdown",
      "source": [
        "##### 1. Why did you pick the specific chart?"
      ],
      "metadata": {
        "id": "1M8mcRywphqQ"
      }
    },
    {
      "cell_type": "markdown",
      "source": [
        "A horizontal bar graph helps to visualize as well as compare data for different categories in the dataset. It brings the categories into focus and visualize data with bars of different sizes and colors."
      ],
      "metadata": {
        "id": "8agQvks0phqQ"
      }
    },
    {
      "cell_type": "markdown",
      "source": [
        "##### 2. What is/are the insight(s) found from the chart?"
      ],
      "metadata": {
        "id": "tgIPom80phqQ"
      }
    },
    {
      "cell_type": "markdown",
      "source": [
        "\n",
        "From the graph most of guest prefer the bed and breakfast(BB). because of night stay mostly guest avaoid the full couse that include  bed, breakfast, packed lunch and evening meal(FC)."
      ],
      "metadata": {
        "id": "Qp13pnNzphqQ"
      }
    },
    {
      "cell_type": "markdown",
      "source": [
        "##### 3. Will the gained insights help creating a positive business impact?\n",
        "Are there any insights that lead to negative growth? Justify with specific reason."
      ],
      "metadata": {
        "id": "JMzcOPDDphqR"
      }
    },
    {
      "cell_type": "markdown",
      "source": [
        "Most guest prefer BB type of Meal. If we want guest order the other meal type then we can prepare them special menu which is mixtue of light and heavy food in such manner that heavy food is 20% and light food with 80% along with desirable drink.   "
      ],
      "metadata": {
        "id": "R4Ka1PC2phqR"
      }
    },
    {
      "cell_type": "markdown",
      "source": [
        "## **5. Solution to Business Objective**"
      ],
      "metadata": {
        "id": "JcMwzZxoAimU"
      }
    },
    {
      "cell_type": "markdown",
      "source": [
        "#### What do you suggest the client to achieve Business Objective ?\n",
        "Explain Briefly."
      ],
      "metadata": {
        "id": "8G2x9gOozGDZ"
      }
    },
    {
      "cell_type": "markdown",
      "source": [
        "1. Marketing the hotel using all media.\n",
        "2. By giving offers to the guest.\n",
        "3. Provide good hospitality.\n",
        "4. Gets the Guest review and improve according to it.\n",
        "5. Make Hotel Booking mobile optimise for frequent booking.\n",
        "6. Keep Hotel up to date, frequently renovate.\n",
        "\n"
      ],
      "metadata": {
        "id": "pASKb0qOza21"
      }
    },
    {
      "cell_type": "markdown",
      "source": [
        "# **Conclusion**"
      ],
      "metadata": {
        "id": "gCX9965dhzqZ"
      }
    },
    {
      "cell_type": "markdown",
      "source": [
        "* The revenue generated by Hotels is mostly in the middle of year, it may due to their local atmosphere or traditional event than whole year.\n",
        "\n",
        "* The business grow gradually year by year. It breaks its own records from previous ones i.e profit make by hotel business is increasing.\n",
        "\n",
        "* Most of the hotel done transition  with the policy of no deposition or no refund contract which may make guest upset so hotel should get some additional policy so that guest don't get upset about it.\n",
        "\n",
        "* More lead time recorded by the guest who stay week night than weekend night stay.\n",
        "\n",
        "* Most of guest do not rebook the hotel maybe due to some reasons so hotel can attract more guests by setting some theme program and advertisement in local market.\n",
        "\n",
        "* ADR is independant from lead time hence we can see that in July, December and May one day adr is highest from whole month because it depend on the hotel events and organazion.\n"
      ],
      "metadata": {
        "id": "Fjb1IsQkh3yE"
      }
    },
    {
      "cell_type": "markdown",
      "source": [
        "### ***Hurrah! You have successfully completed your EDA Capstone Project !!!***"
      ],
      "metadata": {
        "id": "gIfDvo9L0UH2"
      }
    }
  ]
}